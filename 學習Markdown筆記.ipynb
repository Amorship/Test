{
 "cells": [
  {
   "cell_type": "markdown",
   "metadata": {},
   "source": [
    "###  [★★測試內文連結★★](#測試一號)"
   ]
  },
  {
   "cell_type": "markdown",
   "metadata": {},
   "source": [
    "# 大標題\n",
    "\n",
    "## 小標題 "
   ]
  },
  {
   "cell_type": "markdown",
   "metadata": {},
   "source": [
    "## 分項說明\n",
    "\n",
    "* Python\n",
    "* R\n",
    "* Java\n",
    "* C##"
   ]
  },
  {
   "cell_type": "markdown",
   "metadata": {},
   "source": [
    "## 參考連結 (不可以有空格)\n",
    "\n",
    "* [Pyecharts畫圖](https://www.phpyuan.com/255210.html)\n",
    "* [各種Markdown教學](http://moocs.nccu.edu.tw/media/17832)\n",
    "* [Markdown官方文件](https://markdown.tw/)"
   ]
  },
  {
   "cell_type": "markdown",
   "metadata": {},
   "source": [
    "## 插入圖片 (把圖片放入同目錄下)\n",
    "\n",
    "![小熊維尼](Bear.gif)"
   ]
  },
  {
   "cell_type": "markdown",
   "metadata": {},
   "source": [
    "## 數學符號\n",
    "\n",
    "有一個函數 f(x) = $x^3 - 2x^2 + 5$\n",
    "\n",
    "$$\\int_a^b f(x) \\, dx$$"
   ]
  },
  {
   "cell_type": "markdown",
   "metadata": {},
   "source": [
    "# 測試一號"
   ]
  },
  {
   "cell_type": "code",
   "execution_count": null,
   "metadata": {},
   "outputs": [],
   "source": []
  },
  {
   "cell_type": "code",
   "execution_count": null,
   "metadata": {},
   "outputs": [],
   "source": []
  },
  {
   "cell_type": "markdown",
   "metadata": {},
   "source": [
    "淺紅色文字：<font color=\"#dd0000\">淺紅色文字：</font><br /> \n",
    "\n",
    "深红色文字：<font color=\"#660000\">深红色文字</font><br /> \n",
    "\n",
    "淺綠色文字：<font color=\"#00dd00\">淺綠色文字</font><br /> \n",
    "\n",
    "深绿色文字：<font color=\"#006600\">深绿色文字</font><br /> \n",
    "\n",
    "淺藍色文字：<font color=\"#0000dd\">淺藍色文字</font><br /> \n",
    "\n",
    "深蓝色文字：<font color=\"#000066\">深蓝色文字</font><br /> \n",
    "\n",
    "浅黄色文字：<font color=\"#dddd00\">浅黄色文字</font><br /> \n",
    "\n",
    "深黄色文字：<font color=\"#666600\">深黄色文字</font><br /> \n",
    "\n",
    "浅青色文字：<font color=\"#00dddd\">浅青色文字</font><br /> \n",
    "\n",
    "深青色文字：<font color=\"#006666\">深青色文字</font><br /> \n",
    "\n",
    "浅紫色文字：<font color=\"#dd00dd\">浅紫色文字</font><br /> \n",
    "\n",
    "深紫色文字：<font color=\"#660066\">深紫色文字</font><br />"
   ]
  },
  {
   "cell_type": "code",
   "execution_count": null,
   "metadata": {},
   "outputs": [],
   "source": []
  }
 ],
 "metadata": {
  "kernelspec": {
   "display_name": "Python 3",
   "language": "python",
   "name": "python3"
  },
  "language_info": {
   "codemirror_mode": {
    "name": "ipython",
    "version": 3
   },
   "file_extension": ".py",
   "mimetype": "text/x-python",
   "name": "python",
   "nbconvert_exporter": "python",
   "pygments_lexer": "ipython3",
   "version": "3.7.3"
  }
 },
 "nbformat": 4,
 "nbformat_minor": 2
}
